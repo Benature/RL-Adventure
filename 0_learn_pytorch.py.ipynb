{
 "cells": [
  {
   "cell_type": "markdown",
   "metadata": {},
   "source": [
    "\n",
    "\n",
    "learn from https://zhuanlan.zhihu.com/p/25572330"
   ]
  },
  {
   "cell_type": "code",
   "execution_count": null,
   "metadata": {},
   "outputs": [],
   "source": [
    "# from __future__ import print_function\n",
    "import torch\n",
    "import numpy as np"
   ]
  },
  {
   "cell_type": "markdown",
   "metadata": {},
   "source": [
    "# Tensors"
   ]
  },
  {
   "cell_type": "code",
   "execution_count": 4,
   "metadata": {},
   "outputs": [
    {
     "data": {
      "text/plain": [
       "tensor([[0.4643, 0.0113, 0.9599],\n",
       "        [0.8304, 0.6745, 0.7752],\n",
       "        [0.6968, 0.7879, 0.8269],\n",
       "        [0.2326, 0.4592, 0.8652],\n",
       "        [0.0587, 0.3681, 0.1578]])"
      ]
     },
     "execution_count": 4,
     "metadata": {},
     "output_type": "execute_result"
    }
   ],
   "source": [
    "x = torch.Tensor(5, 3)  # 构造一个未初始化的5*3的矩阵\n",
    "x = torch.rand(5, 3)  # 构造一个随机初始化的矩阵\n",
    "x # 此处在notebook中输出x的值来查看具体的x内容"
   ]
  },
  {
   "cell_type": "code",
   "execution_count": 5,
   "metadata": {},
   "outputs": [
    {
     "data": {
      "text/plain": [
       "torch.Size([5, 3])"
      ]
     },
     "execution_count": 5,
     "metadata": {},
     "output_type": "execute_result"
    }
   ],
   "source": [
    "x.size()\n",
    "#NOTE: torch.Size 事实上是一个tuple, 所以其支持相关的操作*"
   ]
  },
  {
   "cell_type": "code",
   "execution_count": 7,
   "metadata": {},
   "outputs": [
    {
     "data": {
      "text/plain": [
       "tensor([[0.5130, 0.0480, 1.9584],\n",
       "        [1.5444, 0.9801, 1.4787],\n",
       "        [1.0601, 1.5573, 1.8073],\n",
       "        [0.8055, 1.2116, 1.0933],\n",
       "        [0.4299, 0.5034, 0.9928]])"
      ]
     },
     "execution_count": 7,
     "metadata": {},
     "output_type": "execute_result"
    }
   ],
   "source": [
    "y = torch.rand(5, 3)\n",
    "#此处 将两个同形矩阵相加有两种语法结构\n",
    "x + y # 语法一\n",
    "torch.add(x, y) # 语法二"
   ]
  },
  {
   "cell_type": "code",
   "execution_count": 8,
   "metadata": {},
   "outputs": [
    {
     "data": {
      "text/plain": [
       "tensor([[0.5130, 0.0480, 1.9584],\n",
       "        [1.5444, 0.9801, 1.4787],\n",
       "        [1.0601, 1.5573, 1.8073],\n",
       "        [0.8055, 1.2116, 1.0933],\n",
       "        [0.4299, 0.5034, 0.9928]])"
      ]
     },
     "execution_count": 8,
     "metadata": {},
     "output_type": "execute_result"
    }
   ],
   "source": [
    "# 另外输出tensor也有两种写法\n",
    "result = torch.Tensor(5, 3) # 语法一\n",
    "torch.add(x, y, out=result) # 语法二\n",
    "y.add_(x) # 将y与x相加"
   ]
  },
  {
   "cell_type": "code",
   "execution_count": 9,
   "metadata": {},
   "outputs": [
    {
     "data": {
      "text/plain": [
       "tensor([0.0113, 0.6745, 0.7879, 0.4592, 0.3681])"
      ]
     },
     "execution_count": 9,
     "metadata": {},
     "output_type": "execute_result"
    }
   ],
   "source": [
    "# 特别注明：任何可以改变tensor内容的操作都会在方法名后加一个下划线'_'\n",
    "# 例如：x.copy_(y), x.t_(), 这俩都会改变x的值。\n",
    "\n",
    "#另外python中的切片操作也是资次的。\n",
    "x[:,1] #这一操作会输出x矩阵的第二列的所有值"
   ]
  },
  {
   "cell_type": "markdown",
   "metadata": {},
   "source": [
    "# Numpy桥"
   ]
  },
  {
   "cell_type": "code",
   "execution_count": null,
   "metadata": {},
   "outputs": [],
   "source": [
    "# 此处演示tensor和numpy数据结构的相互转换\n",
    "a = torch.ones(5)\n",
    "b = a.numpy()\n",
    "\n",
    "# 此处演示当修改numpy数组之后,与之相关联的tensor也会相应的被修改\n",
    "a.add_(1)\n",
    "print(\"a\", a)\n",
    "print(\"b\", b)\n",
    "\n",
    "# 将numpy的Array转换为torch的Tensor\n",
    "a = np.ones(5)\n",
    "b = torch.from_numpy(a)\n",
    "np.add(a, 1, out=a)\n",
    "print(a)\n",
    "print(b)\n",
    "\n",
    "# 另外除了CharTensor之外，所有的tensor都可以在CPU运算和GPU预算之间相互转换\n",
    "# 使用CUDA函数来将Tensor移动到GPU上\n",
    "# 当CUDA可用时会进行GPU的运算\n",
    "if torch.cuda.is_available():\n",
    "    x = x.cuda()\n",
    "    y = y.cuda()\n",
    "    x + y"
   ]
  },
  {
   "cell_type": "code",
   "execution_count": null,
   "metadata": {},
   "outputs": [],
   "source": []
  }
 ],
 "metadata": {
  "hide_input": false,
  "kernelspec": {
   "display_name": "Python 3",
   "language": "python",
   "name": "python3"
  },
  "language_info": {
   "codemirror_mode": {
    "name": "ipython",
    "version": 3
   },
   "file_extension": ".py",
   "mimetype": "text/x-python",
   "name": "python",
   "nbconvert_exporter": "python",
   "pygments_lexer": "ipython3",
   "version": "3.6.7"
  },
  "latex_envs": {
   "LaTeX_envs_menu_present": true,
   "autoclose": false,
   "autocomplete": true,
   "bibliofile": "biblio.bib",
   "cite_by": "apalike",
   "current_citInitial": 1,
   "eqLabelWithNumbers": true,
   "eqNumInitial": 1,
   "hotkeys": {
    "equation": "Ctrl-E",
    "itemize": "Ctrl-I"
   },
   "labels_anchors": false,
   "latex_user_defs": false,
   "report_style_numbering": false,
   "user_envs_cfg": false
  },
  "toc": {
   "base_numbering": 1,
   "nav_menu": {},
   "number_sections": true,
   "sideBar": true,
   "skip_h1_title": false,
   "title_cell": "Table of Contents",
   "title_sidebar": "Contents",
   "toc_cell": false,
   "toc_position": {},
   "toc_section_display": true,
   "toc_window_display": false
  }
 },
 "nbformat": 4,
 "nbformat_minor": 2
}
